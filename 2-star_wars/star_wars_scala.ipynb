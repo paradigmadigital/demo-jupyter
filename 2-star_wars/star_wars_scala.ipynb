{
 "cells": [
  {
   "cell_type": "code",
   "execution_count": null,
   "metadata": {
    "collapsed": false
   },
   "outputs": [],
   "source": [
    "val lines = sc.textFile(\"star_wars.txt\")"
   ]
  },
  {
   "cell_type": "code",
   "execution_count": null,
   "metadata": {
    "collapsed": false
   },
   "outputs": [],
   "source": [
    "val counts = lines.flatMap(line => line.split(\" \")).map(word => (word.toLowerCase, 1)).reduceByKey((x, y) => x + y)"
   ]
  },
  {
   "cell_type": "code",
   "execution_count": null,
   "metadata": {
    "collapsed": false
   },
   "outputs": [],
   "source": [
    "counts.takeOrdered(5)(Ordering[Int].reverse.on(x=>x._2))"
   ]
  },
  {
   "cell_type": "code",
   "execution_count": null,
   "metadata": {
    "collapsed": false
   },
   "outputs": [],
   "source": [
    "val useless_words = List(\"\", \"the\", \"a\", \"and\", \"to\", \"of\", \"in\", \"his\", \"on\", \"as\", \"at\", \"with\", \"-\", \"int.\")"
   ]
  },
  {
   "cell_type": "code",
   "execution_count": null,
   "metadata": {
    "collapsed": false
   },
   "outputs": [],
   "source": [
    "counts.filter(x => !useless_words.contains(x._1)).takeOrdered(1)(Ordering[Int].reverse.on(x=>x._2))"
   ]
  },
  {
   "cell_type": "code",
   "execution_count": null,
   "metadata": {
    "collapsed": true
   },
   "outputs": [],
   "source": []
  }
 ],
 "metadata": {
  "kernelspec": {
   "display_name": "Toree",
   "language": "",
   "name": "toree"
  },
  "language_info": {
   "name": "scala"
  }
 },
 "nbformat": 4,
 "nbformat_minor": 0
}
